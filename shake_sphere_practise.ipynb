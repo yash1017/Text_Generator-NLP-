{
 "cells": [
  {
   "cell_type": "code",
   "execution_count": 1,
   "id": "18145842",
   "metadata": {},
   "outputs": [],
   "source": [
    "import numpy as np\n",
    "import pandas as pd\n",
    "import seaborn as sns\n",
    "import matplotlib.pyplot as plt\n",
    "import tensorflow as tf"
   ]
  },
  {
   "cell_type": "code",
   "execution_count": 2,
   "id": "909e35f7",
   "metadata": {},
   "outputs": [],
   "source": [
    "data = open('shakespeare-Copy1.txt','r').read()"
   ]
  },
  {
   "cell_type": "code",
   "execution_count": 3,
   "id": "dd8eb8b1",
   "metadata": {},
   "outputs": [
    {
     "data": {
      "text/plain": [
       "'\\n                     1\\n  From fairest creatures w'"
      ]
     },
     "execution_count": 3,
     "metadata": {},
     "output_type": "execute_result"
    }
   ],
   "source": [
    "data[:50]"
   ]
  },
  {
   "cell_type": "code",
   "execution_count": 4,
   "id": "d1ed84da",
   "metadata": {},
   "outputs": [],
   "source": [
    "vocab = sorted(set(data))"
   ]
  },
  {
   "cell_type": "code",
   "execution_count": 5,
   "id": "c7edaf4f",
   "metadata": {},
   "outputs": [],
   "source": [
    "vocab_size = len(vocab)"
   ]
  },
  {
   "cell_type": "code",
   "execution_count": 6,
   "id": "b507a555",
   "metadata": {},
   "outputs": [
    {
     "data": {
      "text/plain": [
       "84"
      ]
     },
     "execution_count": 6,
     "metadata": {},
     "output_type": "execute_result"
    }
   ],
   "source": [
    "vocab_size"
   ]
  },
  {
   "cell_type": "code",
   "execution_count": 57,
   "id": "0ea1c925",
   "metadata": {},
   "outputs": [],
   "source": [
    "ind_to_char =np.array( [c for c in vocab])"
   ]
  },
  {
   "cell_type": "code",
   "execution_count": 13,
   "id": "0b2c5d97",
   "metadata": {},
   "outputs": [
    {
     "data": {
      "text/plain": [
       "84"
      ]
     },
     "execution_count": 13,
     "metadata": {},
     "output_type": "execute_result"
    }
   ],
   "source": [
    "len(char_to_ind)"
   ]
  },
  {
   "cell_type": "code",
   "execution_count": 14,
   "id": "03bc6422",
   "metadata": {},
   "outputs": [],
   "source": [
    "char_to_ind = {c:i for i,c in enumerate(vocab)}"
   ]
  },
  {
   "cell_type": "code",
   "execution_count": 15,
   "id": "1a167100",
   "metadata": {},
   "outputs": [
    {
     "data": {
      "text/plain": [
       "84"
      ]
     },
     "execution_count": 15,
     "metadata": {},
     "output_type": "execute_result"
    }
   ],
   "source": [
    "len(ind_to_char)"
   ]
  },
  {
   "cell_type": "code",
   "execution_count": 16,
   "id": "0e42ee95",
   "metadata": {},
   "outputs": [],
   "source": [
    "encoded_text = [char_to_ind[i] for i in data]"
   ]
  },
  {
   "cell_type": "code",
   "execution_count": 18,
   "id": "3cbf39cc",
   "metadata": {},
   "outputs": [
    {
     "data": {
      "text/plain": [
       "5445609"
      ]
     },
     "execution_count": 18,
     "metadata": {},
     "output_type": "execute_result"
    }
   ],
   "source": [
    "len(encoded_text)"
   ]
  },
  {
   "cell_type": "code",
   "execution_count": 19,
   "id": "1e2a2b42",
   "metadata": {},
   "outputs": [],
   "source": [
    "# creating batches"
   ]
  },
  {
   "cell_type": "code",
   "execution_count": 22,
   "id": "d39c0e29",
   "metadata": {},
   "outputs": [],
   "source": [
    "char = tf.data.Dataset.from_tensor_slices(encoded_text)"
   ]
  },
  {
   "cell_type": "code",
   "execution_count": 25,
   "id": "7d7c5185",
   "metadata": {},
   "outputs": [],
   "source": [
    "seq_len =120"
   ]
  },
  {
   "cell_type": "code",
   "execution_count": 30,
   "id": "6c117159",
   "metadata": {},
   "outputs": [],
   "source": [
    "sequences=char.batch(seq_len+1,drop_remainder=True)"
   ]
  },
  {
   "cell_type": "code",
   "execution_count": 31,
   "id": "a5185ec6",
   "metadata": {},
   "outputs": [
    {
     "data": {
      "text/plain": [
       "45005"
      ]
     },
     "execution_count": 31,
     "metadata": {},
     "output_type": "execute_result"
    }
   ],
   "source": [
    "len(sequences)"
   ]
  },
  {
   "cell_type": "code",
   "execution_count": 43,
   "id": "d2737a8a",
   "metadata": {},
   "outputs": [
    {
     "name": "stdout",
     "output_type": "stream",
     "text": [
      "\n",
      "\n",
      " \n",
      " \n",
      " \n",
      " \n",
      " \n",
      " \n",
      " \n",
      " \n",
      " \n",
      " \n",
      " \n",
      " \n",
      " \n",
      " \n",
      " \n",
      " \n",
      " \n",
      " \n",
      " \n",
      " \n",
      " \n",
      "1\n",
      "\n",
      "\n",
      " \n",
      " \n",
      "F\n",
      "r\n",
      "o\n",
      "m\n",
      " \n",
      "f\n",
      "a\n",
      "i\n",
      "r\n",
      "e\n",
      "s\n",
      "t\n",
      " \n",
      "c\n",
      "r\n",
      "e\n",
      "a\n",
      "t\n",
      "u\n",
      "r\n",
      "e\n",
      "s\n",
      " \n",
      "w\n",
      "e\n",
      " \n",
      "d\n",
      "e\n",
      "s\n",
      "i\n",
      "r\n",
      "e\n",
      " \n",
      "i\n",
      "n\n",
      "c\n",
      "r\n",
      "e\n",
      "a\n",
      "s\n",
      "e\n",
      ",\n",
      "\n",
      "\n",
      " \n",
      " \n",
      "T\n",
      "h\n",
      "a\n",
      "t\n",
      " \n",
      "t\n",
      "h\n",
      "e\n",
      "r\n",
      "e\n",
      "b\n",
      "y\n",
      " \n",
      "b\n",
      "e\n",
      "a\n",
      "u\n",
      "t\n",
      "y\n",
      "'\n",
      "s\n",
      " \n",
      "r\n",
      "o\n",
      "s\n",
      "e\n",
      " \n",
      "m\n",
      "i\n",
      "g\n",
      "h\n",
      "t\n",
      " \n",
      "n\n",
      "e\n",
      "v\n",
      "e\n",
      "r\n",
      " \n",
      "d\n",
      "i\n",
      "e\n",
      ",\n",
      "\n",
      "\n",
      " \n",
      " \n",
      "B\n",
      "u\n",
      "t\n",
      " \n",
      "a\n",
      "s\n",
      " \n",
      "t\n",
      "h\n",
      "e\n",
      " \n",
      "r\n",
      "i\n",
      "p\n",
      "e\n",
      "r\n",
      " \n",
      "s\n",
      "h\n",
      "o\n",
      "u\n",
      "l\n",
      "d\n",
      " \n",
      "b\n",
      "y\n",
      " \n",
      "t\n",
      "i\n",
      "m\n",
      "e\n",
      " \n",
      "d\n",
      "e\n",
      "c\n",
      "e\n",
      "a\n",
      "s\n",
      "e\n",
      ",\n",
      "\n",
      "\n",
      " \n",
      " \n",
      "H\n",
      "i\n",
      "s\n",
      " \n",
      "t\n",
      "e\n",
      "n\n",
      "d\n",
      "e\n",
      "r\n",
      " \n",
      "h\n",
      "e\n",
      "i\n",
      "r\n",
      " \n",
      "m\n",
      "i\n",
      "g\n",
      "h\n",
      "t\n",
      " \n",
      "b\n",
      "e\n",
      "a\n",
      "r\n",
      " \n",
      "h\n",
      "i\n",
      "s\n",
      " \n",
      "m\n",
      "e\n",
      "m\n",
      "o\n",
      "r\n",
      "y\n",
      ":\n",
      "\n",
      "\n",
      " \n",
      " \n",
      "B\n",
      "u\n",
      "t\n",
      " \n",
      "t\n",
      "h\n",
      "o\n",
      "u\n",
      " \n",
      "c\n",
      "o\n",
      "n\n",
      "t\n",
      "r\n",
      "a\n",
      "c\n",
      "t\n",
      "e\n",
      "d\n",
      " \n",
      "t\n",
      "o\n",
      " \n",
      "t\n",
      "h\n",
      "i\n",
      "n\n",
      "e\n",
      " \n",
      "o\n",
      "w\n",
      "n\n",
      " \n",
      "b\n",
      "r\n",
      "i\n",
      "g\n",
      "h\n",
      "t\n",
      " \n",
      "e\n",
      "y\n",
      "e\n",
      "s\n",
      ",\n",
      "\n",
      "\n",
      " \n",
      " \n",
      "F\n",
      "e\n",
      "e\n",
      "d\n",
      "'\n",
      "s\n",
      "t\n",
      " \n",
      "t\n",
      "h\n",
      "y\n",
      " \n",
      "l\n",
      "i\n",
      "g\n",
      "h\n",
      "t\n",
      "'\n",
      "s\n",
      " \n",
      "f\n",
      "l\n",
      "a\n",
      "m\n",
      "e\n",
      " \n",
      "w\n",
      "i\n",
      "t\n",
      "h\n",
      " \n",
      "s\n",
      "e\n",
      "l\n",
      "f\n",
      "-\n",
      "s\n",
      "u\n",
      "b\n",
      "s\n",
      "t\n",
      "a\n",
      "n\n",
      "t\n",
      "i\n",
      "a\n",
      "l\n",
      " \n",
      "f\n",
      "u\n",
      "e\n",
      "l\n",
      ",\n",
      "\n",
      "\n",
      " \n",
      " \n",
      "M\n",
      "a\n",
      "k\n",
      "i\n",
      "n\n",
      "g\n",
      " \n",
      "a\n",
      " \n",
      "f\n",
      "a\n",
      "m\n",
      "i\n",
      "n\n",
      "e\n",
      " \n",
      "w\n",
      "h\n",
      "e\n",
      "r\n",
      "e\n",
      " \n",
      "a\n",
      "b\n",
      "u\n",
      "n\n",
      "d\n",
      "a\n",
      "n\n",
      "c\n",
      "e\n",
      " \n",
      "l\n",
      "i\n",
      "e\n",
      "s\n",
      ",\n",
      "\n",
      "\n",
      " \n",
      " \n",
      "T\n",
      "h\n",
      "y\n",
      " \n",
      "s\n",
      "e\n",
      "l\n",
      "f\n",
      " \n",
      "t\n",
      "h\n",
      "y\n",
      " \n",
      "f\n",
      "o\n",
      "e\n",
      ",\n",
      " \n",
      "t\n",
      "o\n",
      " \n",
      "t\n",
      "h\n",
      "y\n",
      " \n",
      "s\n",
      "w\n",
      "e\n",
      "e\n",
      "t\n",
      " \n",
      "s\n",
      "e\n",
      "l\n",
      "f\n",
      " \n",
      "t\n",
      "o\n",
      "o\n",
      " \n",
      "c\n",
      "r\n",
      "u\n",
      "e\n",
      "l\n",
      ":\n",
      "\n",
      "\n",
      " \n",
      " \n",
      "T\n",
      "h\n",
      "o\n",
      "u\n",
      " \n",
      "t\n",
      "h\n",
      "a\n",
      "t\n",
      " \n",
      "a\n",
      "r\n",
      "t\n",
      " \n",
      "n\n",
      "o\n",
      "w\n",
      " \n",
      "t\n",
      "h\n",
      "e\n",
      " \n",
      "w\n",
      "o\n",
      "r\n",
      "l\n",
      "d\n",
      "'\n",
      "s\n",
      " \n",
      "f\n",
      "r\n",
      "e\n",
      "s\n",
      "h\n",
      " \n",
      "o\n",
      "r\n",
      "n\n",
      "a\n",
      "m\n",
      "e\n",
      "n\n",
      "t\n",
      ",\n",
      "\n",
      "\n",
      " \n",
      " \n",
      "A\n",
      "n\n",
      "d\n",
      " \n",
      "o\n",
      "n\n",
      "l\n",
      "y\n",
      " \n",
      "h\n",
      "e\n",
      "r\n",
      "a\n",
      "l\n",
      "d\n",
      " \n",
      "t\n",
      "o\n",
      " \n",
      "t\n",
      "h\n",
      "e\n",
      " \n",
      "g\n",
      "a\n",
      "u\n",
      "d\n",
      "y\n",
      " \n",
      "s\n",
      "p\n",
      "r\n",
      "i\n",
      "n\n",
      "g\n",
      ",\n",
      "\n",
      "\n",
      " \n",
      " \n",
      "W\n",
      "i\n",
      "t\n",
      "h\n",
      "i\n",
      "n\n",
      " \n",
      "t\n",
      "h\n",
      "i\n",
      "n\n",
      "e\n",
      " \n",
      "o\n",
      "w\n",
      "n\n",
      " \n",
      "b\n",
      "u\n"
     ]
    }
   ],
   "source": [
    "for i in char.take(500):\n",
    "    print(ind_to_char[i.numpy()])"
   ]
  },
  {
   "cell_type": "code",
   "execution_count": 44,
   "id": "43dbfe07",
   "metadata": {},
   "outputs": [],
   "source": [
    "def gen_batches(seq):\n",
    "    input_txt = seq[:-1]\n",
    "    target_txt = seq[1:]\n",
    "    return input_txt,target_txt"
   ]
  },
  {
   "cell_type": "code",
   "execution_count": 45,
   "id": "551b61af",
   "metadata": {},
   "outputs": [],
   "source": [
    "batches = sequences.map(gen_batches)"
   ]
  },
  {
   "cell_type": "code",
   "execution_count": 65,
   "id": "b845e1bc",
   "metadata": {},
   "outputs": [
    {
     "name": "stdout",
     "output_type": "stream",
     "text": [
      "\n",
      "                     1\n",
      "  From fairest creatures we desire increase,\n",
      "  That thereby beauty's rose might never die,\n",
      "  But\n",
      "                     1\n",
      "  From fairest creatures we desire increase,\n",
      "  That thereby beauty's rose might never die,\n",
      "  But \n"
     ]
    }
   ],
   "source": [
    "for input_txt,target_txt in batches.take(1):\n",
    "    print(''.join(ind_to_char[input_txt]))\n",
    "    print(''.join(ind_to_char[target_txt]))"
   ]
  },
  {
   "cell_type": "code",
   "execution_count": 63,
   "id": "4af97995",
   "metadata": {},
   "outputs": [],
   "source": [
    "batch_size = 128\n",
    "\n",
    "buffer_size = 1000"
   ]
  },
  {
   "cell_type": "code",
   "execution_count": 50,
   "id": "554acd62",
   "metadata": {},
   "outputs": [],
   "source": [
    "dataset = batches.shuffle(buffer_size).batch(batch_size,drop_remainder=True)"
   ]
  },
  {
   "cell_type": "code",
   "execution_count": 66,
   "id": "b9700752",
   "metadata": {},
   "outputs": [],
   "source": [
    "# creating model"
   ]
  },
  {
   "cell_type": "code",
   "execution_count": 67,
   "id": "cc13e600",
   "metadata": {},
   "outputs": [],
   "source": [
    "from tensorflow.keras.models import Sequential"
   ]
  },
  {
   "cell_type": "code",
   "execution_count": 68,
   "id": "e6ae476e",
   "metadata": {},
   "outputs": [],
   "source": [
    "from tensorflow.keras.layers import Dense,LSTM,GRU,Embedding"
   ]
  },
  {
   "cell_type": "code",
   "execution_count": 75,
   "id": "0758943b",
   "metadata": {},
   "outputs": [],
   "source": [
    "from tensorflow.keras.losses import sparse_categorical_crossentropy\n",
    "\n",
    "def sparse_cat_loss(y_true,y_pred):\n",
    "    return sparse_categorical_crossentropy(y_true,y_pred,from_logits=True)"
   ]
  },
  {
   "cell_type": "code",
   "execution_count": 159,
   "id": "1206ec1b",
   "metadata": {},
   "outputs": [],
   "source": [
    "def create_model(rnn_size,emb_size,batch_size,vocab_size):\n",
    "    model = Sequential()\n",
    "    model.add(Embedding(vocab_size,emb_size,batch_input_shape=[batch_size,None]))\n",
    "    model.add(GRU(rnn_size,recurrent_initializer='glorot_uniform',return_sequences=True,stateful=True))\n",
    "    model.add(Dense(vocab_size))\n",
    "    \n",
    "    model.compile(optimizer='adam',loss=sparse_cat_loss)\n",
    "    return model"
   ]
  },
  {
   "cell_type": "code",
   "execution_count": null,
   "id": "def93b2e",
   "metadata": {},
   "outputs": [],
   "source": []
  },
  {
   "cell_type": "code",
   "execution_count": 155,
   "id": "c0968342",
   "metadata": {},
   "outputs": [],
   "source": [
    "rnn_size = 1026\n",
    "\n",
    "batch_size =128\n",
    "\n",
    "emb_size = 64"
   ]
  },
  {
   "cell_type": "code",
   "execution_count": 156,
   "id": "7fad4954",
   "metadata": {},
   "outputs": [],
   "source": [
    "model = create_model(rnn_size,emb_size,batch_size,vocab_size)"
   ]
  },
  {
   "cell_type": "code",
   "execution_count": 142,
   "id": "16685d9e",
   "metadata": {},
   "outputs": [
    {
     "name": "stdout",
     "output_type": "stream",
     "text": [
      "<class 'keras.src.engine.sequential.Sequential'>\n"
     ]
    }
   ],
   "source": [
    "print(type(model))"
   ]
  },
  {
   "cell_type": "code",
   "execution_count": 143,
   "id": "0ee2aecb",
   "metadata": {},
   "outputs": [
    {
     "name": "stdout",
     "output_type": "stream",
     "text": [
      "Model: \"sequential_7\"\n",
      "_________________________________________________________________\n",
      " Layer (type)                Output Shape              Param #   \n",
      "=================================================================\n",
      " embedding_7 (Embedding)     (128, None, 64)           5376      \n",
      "                                                                 \n",
      " gru_7 (GRU)                 (128, None, 1026)         3361176   \n",
      "                                                                 \n",
      " dense_7 (Dense)             (128, None, 84)           86268     \n",
      "                                                                 \n",
      "=================================================================\n",
      "Total params: 3452820 (13.17 MB)\n",
      "Trainable params: 3452820 (13.17 MB)\n",
      "Non-trainable params: 0 (0.00 Byte)\n",
      "_________________________________________________________________\n"
     ]
    }
   ],
   "source": [
    "model.summary()"
   ]
  },
  {
   "cell_type": "code",
   "execution_count": 144,
   "id": "0031378a",
   "metadata": {},
   "outputs": [],
   "source": [
    "Exam_predictions = []\n",
    "\n",
    "for input_txt,target_txt in dataset.take(1):\n",
    "    Exam_predictions = model(input_txt)"
   ]
  },
  {
   "cell_type": "code",
   "execution_count": 145,
   "id": "99b8451c",
   "metadata": {},
   "outputs": [
    {
     "data": {
      "text/plain": [
       "<tf.Tensor: shape=(120, 84), dtype=float32, numpy=\n",
       "array([[-1.0492762e-03, -6.6338212e-04, -2.2136548e-04, ...,\n",
       "         2.8731977e-03, -5.6101642e-05,  4.2138709e-07],\n",
       "       [ 3.7156946e-03, -1.0655681e-03, -2.7959826e-03, ...,\n",
       "         5.4829079e-03, -9.9989586e-04,  7.0013851e-03],\n",
       "       [ 7.3859463e-03,  4.2944504e-03, -3.2772732e-04, ...,\n",
       "        -7.2629331e-04,  3.4896836e-03, -2.1646140e-04],\n",
       "       ...,\n",
       "       [ 1.0316651e-02,  1.3318637e-03,  2.2226917e-03, ...,\n",
       "         5.0282101e-03,  4.6777092e-03,  6.1680679e-03],\n",
       "       [ 7.6129229e-04, -1.8166645e-03,  8.4991514e-04, ...,\n",
       "         3.1477327e-03,  4.0336414e-03,  3.7568123e-03],\n",
       "       [ 1.0554125e-03,  4.1397605e-03,  1.0418331e-03, ...,\n",
       "         1.5684376e-03,  4.1810335e-03, -6.0021020e-03]], dtype=float32)>"
      ]
     },
     "execution_count": 145,
     "metadata": {},
     "output_type": "execute_result"
    }
   ],
   "source": [
    "Exam_predictions[0]\n",
    "# probabilities of one-hot-encoded-categories"
   ]
  },
  {
   "cell_type": "code",
   "execution_count": 146,
   "id": "311f6f7e",
   "metadata": {},
   "outputs": [],
   "source": [
    "sample_pred = tf.random.categorical(Exam_predictions[0],num_samples=1)"
   ]
  },
  {
   "cell_type": "code",
   "execution_count": 147,
   "id": "2bd2150a",
   "metadata": {},
   "outputs": [],
   "source": [
    "sample_pred=tf.squeeze(sample_pred,axis=-1)"
   ]
  },
  {
   "cell_type": "code",
   "execution_count": 148,
   "id": "38798656",
   "metadata": {},
   "outputs": [
    {
     "data": {
      "text/plain": [
       "<tf.Tensor: shape=(120,), dtype=int64, numpy=\n",
       "array([54,  8, 20, 15, 26,  6, 74, 23, 66, 16, 59,  9, 21, 18, 46, 75,  7,\n",
       "       35, 74, 33, 43, 34, 10, 45, 24, 42, 77, 61, 59, 32,  0,  2, 62, 68,\n",
       "       63, 80, 54, 19, 19, 63, 16, 61, 78, 32, 41, 25, 48, 79, 40,  9, 37,\n",
       "       59, 69, 53, 23, 36, 33, 31, 51, 75, 62, 50, 36,  7, 40, 27,  9, 13,\n",
       "       70, 53, 58, 62, 74, 49, 74, 74, 77, 31, 31, 44, 42,  9, 49, 64, 79,\n",
       "       22, 41, 34, 76,  8, 83, 21, 28, 22,  0, 49, 23,  7, 70, 62, 50, 50,\n",
       "       43, 42, 47, 42, 20, 79, 64, 61, 25, 69, 75,  2, 37, 68, 20, 24, 10,\n",
       "       80], dtype=int64)>"
      ]
     },
     "execution_count": 148,
     "metadata": {},
     "output_type": "execute_result"
    }
   ],
   "source": [
    "sample_pred"
   ]
  },
  {
   "cell_type": "code",
   "execution_count": 149,
   "id": "fe837735",
   "metadata": {},
   "outputs": [
    {
     "data": {
      "text/plain": [
       "'_,94A(s<k5d-:7Ut)JsHRI.T>QvfdG\\n!gmhy_88h5fwGP?WxO-Ldn]<KHFZtgYK)OB-2o]cgsXssvFFSQ-Xix;PIu,}:C;\\nX<)ogYYRQVQ9xif?nt!Lm9>.y'"
      ]
     },
     "execution_count": 149,
     "metadata": {},
     "output_type": "execute_result"
    }
   ],
   "source": [
    "''.join(ind_to_char[sample_pred])"
   ]
  },
  {
   "cell_type": "code",
   "execution_count": 150,
   "id": "22c96b2f",
   "metadata": {},
   "outputs": [],
   "source": [
    "# generate_text"
   ]
  },
  {
   "cell_type": "code",
   "execution_count": 181,
   "id": "c9bcea09",
   "metadata": {},
   "outputs": [],
   "source": [
    "def generate_text(model,gen_size,start_seed,temp):\n",
    "    generated_text=[]\n",
    "    encod = [char_to_ind[c] for c in start_seed]\n",
    "    encod=tf.expand_dims(encod,0)\n",
    "    model.reset_states()\n",
    "    for i in range(gen_size):\n",
    "        predictions=model(encod)\n",
    "        \n",
    "        predictions=tf.squeeze(predictions,0)\n",
    "        \n",
    "        predictions = predictions/temp\n",
    "        \n",
    "        predictions_id = tf.random.categorical(predictions,num_samples=1)[-1,0].numpy()\n",
    "        \n",
    "        encod = tf.expand_dims([predicted_id], 0)\n",
    "        \n",
    "        generated_text.append(ind_to_char[predictions_id])\n",
    "        \n",
    "    return (start_seed + ''.join(text_generated))\n",
    "        \n",
    "    "
   ]
  },
  {
   "cell_type": "code",
   "execution_count": 190,
   "id": "9b6ea361",
   "metadata": {},
   "outputs": [],
   "source": []
  },
  {
   "cell_type": "code",
   "execution_count": 191,
   "id": "ed42ba1b",
   "metadata": {},
   "outputs": [],
   "source": [
    "model = create_model(rnn_size,emb_size,batch_size,vocab_size)"
   ]
  },
  {
   "cell_type": "code",
   "execution_count": 192,
   "id": "f8eadb3b",
   "metadata": {},
   "outputs": [],
   "source": [
    "model.load_weights('shakespeare_gen-Copy1.h5')"
   ]
  },
  {
   "cell_type": "code",
   "execution_count": 193,
   "id": "d7d189aa",
   "metadata": {},
   "outputs": [],
   "source": [
    "model.build(tf.TensorShape([1,None]))"
   ]
  },
  {
   "cell_type": "code",
   "execution_count": 201,
   "id": "f93295c2",
   "metadata": {},
   "outputs": [
    {
     "name": "stdout",
     "output_type": "stream",
     "text": [
      "flower all,\n",
      "    That he should be the company of this company.\n",
      "    I will not have it so. But I am sorry\n",
      "    To think that I have seen thee from the way\n",
      "    To see thee from the princes. Strike on him;\n",
      "    I have no more mistaken in this place.\n",
      "    I will not be a sick that have the hand\n",
      "    Of the rich best advantage of his pride.\n",
      "    Shall I stand here in this anon?\n",
      "  TITUS. Why, then we shall have merry be the fire\n",
      "    That weak and waste of this distill'd grandsires,\n",
      "    And with the hand of many \n"
     ]
    }
   ],
   "source": [
    "print(generate_text(model,gen_size=500,start_seed=\"flower\",temp=0.2))"
   ]
  },
  {
   "cell_type": "code",
   "execution_count": 200,
   "id": "0e0ca33c",
   "metadata": {},
   "outputs": [
    {
     "name": "stdout",
     "output_type": "stream",
     "text": [
      "Ramay's\n",
      "    head. I will not have you heard that which is a gentleman as your books.\n",
      "    I speak not to the court. For my part, I may say\n",
      "    'This is not so to me a time to speak.\n",
      "    There is no trust me with this prison of the place.\n",
      "    What is the matter, honey nurse, I pray,\n",
      "    That I might be the sea of many things to see,\n",
      "    That I might have the charge of this discomfort could\n",
      "    So much the one as well as I do know.\n",
      "    There is no time to speak with me to find thee.\n",
      "  AGUECHEEK. I have\n"
     ]
    }
   ],
   "source": [
    "print(generate_text(model,gen_size=500,start_seed=\"Rama\",temp=0.2))"
   ]
  },
  {
   "cell_type": "code",
   "execution_count": 205,
   "id": "2320738d",
   "metadata": {},
   "outputs": [
    {
     "name": "stdout",
     "output_type": "stream",
     "text": [
      "i am not \n"
     ]
    }
   ],
   "source": [
    "print(generate_text(model,gen_size=5,start_seed=\"i am\",temp=0.2))"
   ]
  },
  {
   "cell_type": "code",
   "execution_count": null,
   "id": "fd8fdb1a",
   "metadata": {},
   "outputs": [],
   "source": []
  }
 ],
 "metadata": {
  "kernelspec": {
   "display_name": "Python 3 (ipykernel)",
   "language": "python",
   "name": "python3"
  },
  "language_info": {
   "codemirror_mode": {
    "name": "ipython",
    "version": 3
   },
   "file_extension": ".py",
   "mimetype": "text/x-python",
   "name": "python",
   "nbconvert_exporter": "python",
   "pygments_lexer": "ipython3",
   "version": "3.11.4"
  }
 },
 "nbformat": 4,
 "nbformat_minor": 5
}
